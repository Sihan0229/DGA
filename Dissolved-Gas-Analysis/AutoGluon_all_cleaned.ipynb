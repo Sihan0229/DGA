{
 "cells": [
  {
   "cell_type": "code",
   "execution_count": 1,
   "metadata": {},
   "outputs": [
    {
     "name": "stderr",
     "output_type": "stream",
     "text": [
      "c:\\Users\\11094\\.conda\\envs\\pytorch\\lib\\site-packages\\tqdm\\auto.py:21: TqdmWarning: IProgress not found. Please update jupyter and ipywidgets. See https://ipywidgets.readthedocs.io/en/stable/user_install.html\n",
      "  from .autonotebook import tqdm as notebook_tqdm\n"
     ]
    }
   ],
   "source": [
    "from autogluon.tabular import TabularDataset, TabularPredictor"
   ]
  },
  {
   "cell_type": "code",
   "execution_count": 2,
   "metadata": {},
   "outputs": [],
   "source": [
    "import pandas as pd\n",
    "import numpy as np"
   ]
  },
  {
   "cell_type": "code",
   "execution_count": 3,
   "metadata": {},
   "outputs": [],
   "source": [
    "# Load the file to inspect its content\n",
    "file_path = r'D:\\xjtufiles\\3ee\\DGA\\datasets\\DGA_data_all.csv'\n",
    "df = pd.read_csv(file_path)\n",
    "\n",
    "# df = pd.read_csv(r'D:\\xjtufiles\\3ee\\DGA_data_pre.csv', index_col = 0)\n",
    "df = df.iloc[:-1,:]\n",
    "# df\n",
    "\n",
    "df['h2'] = pd.to_numeric(df['h2'],errors='coerce')\n",
    "df['ch4'] = pd.to_numeric(df['ch4'],errors='coerce')\n",
    "df['c2h6'] = pd.to_numeric(df['c2h6'],errors='coerce')\n",
    "df['c2h4'] = pd.to_numeric(df['c2h4'],errors='coerce')\n",
    "df['c2h2'] = pd.to_numeric(df['c2h2'],errors='coerce')\n",
    "df['act'] = pd.to_numeric(df['act'],errors='coerce')\n",
    "\n",
    "df = df.reset_index(drop=True) # 重置索引"
   ]
  },
  {
   "cell_type": "code",
   "execution_count": 4,
   "metadata": {},
   "outputs": [
    {
     "name": "stdout",
     "output_type": "stream",
     "text": [
      "h2      0\n",
      "ch4     0\n",
      "c2h6    0\n",
      "c2h4    0\n",
      "c2h2    0\n",
      "act     0\n",
      "dtype: int64\n"
     ]
    }
   ],
   "source": [
    "print(df.isnull().sum())"
   ]
  },
  {
   "cell_type": "code",
   "execution_count": 5,
   "metadata": {},
   "outputs": [
    {
     "name": "stdout",
     "output_type": "stream",
     "text": [
      "离群值处理后数据形状： (1596, 6)\n"
     ]
    }
   ],
   "source": [
    "def remove_outliers_iqr(df, columns):\n",
    "    \"\"\"使用 IQR 方法移除离群值\"\"\"\n",
    "    df_cleaned = df.copy()\n",
    "    for col in columns:\n",
    "        if pd.api.types.is_numeric_dtype(df_cleaned[col]):\n",
    "            Q1 = df_cleaned[col].quantile(0.25)\n",
    "            Q3 = df_cleaned[col].quantile(0.75)\n",
    "            IQR = Q3 - Q1\n",
    "            lower_bound = Q1 - 5 * IQR\n",
    "            upper_bound = Q3 + 5 * IQR\n",
    "            df_cleaned = df_cleaned[(df_cleaned[col] >= lower_bound) & (df_cleaned[col] <= upper_bound)]\n",
    "    return df_cleaned\n",
    "\n",
    "# 指定特征列\n",
    "feature_cols = ['h2', 'ch4', 'c2h6', 'c2h4', 'c2h2']\n",
    "\n",
    "# 移除离群值\n",
    "df_cleaned = remove_outliers_iqr(df, feature_cols)\n",
    "\n",
    "print(\"离群值处理后数据形状：\", df_cleaned.shape)"
   ]
  },
  {
   "cell_type": "code",
   "execution_count": 6,
   "metadata": {},
   "outputs": [
    {
     "name": "stdout",
     "output_type": "stream",
     "text": [
      "h2      float64\n",
      "ch4     float64\n",
      "c2h6    float64\n",
      "c2h4    float64\n",
      "c2h2    float64\n",
      "act       int32\n",
      "dtype: object\n"
     ]
    }
   ],
   "source": [
    "# 确保特征列为数值类型\n",
    "for col in feature_cols:\n",
    "    df_cleaned[col] = pd.to_numeric(df_cleaned[col], errors='coerce')\n",
    "\n",
    "# 确保目标列为整数类型\n",
    "df_cleaned['act'] = df_cleaned['act'].astype(int)\n",
    "\n",
    "print(df_cleaned.dtypes)"
   ]
  },
  {
   "cell_type": "code",
   "execution_count": 7,
   "metadata": {},
   "outputs": [],
   "source": [
    "X = df_cleaned.iloc[:, :5]\n",
    "y = df_cleaned.iloc[:, -1]"
   ]
  },
  {
   "cell_type": "code",
   "execution_count": 8,
   "metadata": {},
   "outputs": [],
   "source": [
    "train_data = df_cleaned"
   ]
  },
  {
   "cell_type": "code",
   "execution_count": 9,
   "metadata": {},
   "outputs": [
    {
     "data": {
      "application/vnd.microsoft.datawrangler.viewer.v0+json": {
       "columns": [
        {
         "name": "index",
         "rawType": "int64",
         "type": "integer"
        },
        {
         "name": "h2",
         "rawType": "float64",
         "type": "float"
        },
        {
         "name": "ch4",
         "rawType": "float64",
         "type": "float"
        },
        {
         "name": "c2h6",
         "rawType": "float64",
         "type": "float"
        },
        {
         "name": "c2h4",
         "rawType": "float64",
         "type": "float"
        },
        {
         "name": "c2h2",
         "rawType": "float64",
         "type": "float"
        },
        {
         "name": "act",
         "rawType": "int32",
         "type": "integer"
        }
       ],
       "conversionMethod": "pd.DataFrame",
       "ref": "cc9d82c2-17b9-40dd-baa2-fa4552461e50",
       "rows": [
        [
         "1",
         "200.83",
         "59.45",
         "41.0",
         "40.48",
         "150.84",
         "1"
        ],
        [
         "2",
         "71.6",
         "20.2",
         "2.7",
         "34.6",
         "44.2",
         "1"
        ],
        [
         "3",
         "29.3",
         "24.9",
         "7.3",
         "11.4",
         "7.5",
         "1"
        ],
        [
         "5",
         "255.0",
         "48.0",
         "8.3",
         "33.0",
         "29.8",
         "1"
        ],
        [
         "6",
         "138.5",
         "68.4",
         "0.0",
         "193.6",
         "137.0",
         "1"
        ]
       ],
       "shape": {
        "columns": 6,
        "rows": 5
       }
      },
      "text/html": [
       "<div>\n",
       "<style scoped>\n",
       "    .dataframe tbody tr th:only-of-type {\n",
       "        vertical-align: middle;\n",
       "    }\n",
       "\n",
       "    .dataframe tbody tr th {\n",
       "        vertical-align: top;\n",
       "    }\n",
       "\n",
       "    .dataframe thead th {\n",
       "        text-align: right;\n",
       "    }\n",
       "</style>\n",
       "<table border=\"1\" class=\"dataframe\">\n",
       "  <thead>\n",
       "    <tr style=\"text-align: right;\">\n",
       "      <th></th>\n",
       "      <th>h2</th>\n",
       "      <th>ch4</th>\n",
       "      <th>c2h6</th>\n",
       "      <th>c2h4</th>\n",
       "      <th>c2h2</th>\n",
       "      <th>act</th>\n",
       "    </tr>\n",
       "  </thead>\n",
       "  <tbody>\n",
       "    <tr>\n",
       "      <th>1</th>\n",
       "      <td>200.83</td>\n",
       "      <td>59.45</td>\n",
       "      <td>41.0</td>\n",
       "      <td>40.48</td>\n",
       "      <td>150.84</td>\n",
       "      <td>1</td>\n",
       "    </tr>\n",
       "    <tr>\n",
       "      <th>2</th>\n",
       "      <td>71.60</td>\n",
       "      <td>20.20</td>\n",
       "      <td>2.7</td>\n",
       "      <td>34.60</td>\n",
       "      <td>44.20</td>\n",
       "      <td>1</td>\n",
       "    </tr>\n",
       "    <tr>\n",
       "      <th>3</th>\n",
       "      <td>29.30</td>\n",
       "      <td>24.90</td>\n",
       "      <td>7.3</td>\n",
       "      <td>11.40</td>\n",
       "      <td>7.50</td>\n",
       "      <td>1</td>\n",
       "    </tr>\n",
       "    <tr>\n",
       "      <th>5</th>\n",
       "      <td>255.00</td>\n",
       "      <td>48.00</td>\n",
       "      <td>8.3</td>\n",
       "      <td>33.00</td>\n",
       "      <td>29.80</td>\n",
       "      <td>1</td>\n",
       "    </tr>\n",
       "    <tr>\n",
       "      <th>6</th>\n",
       "      <td>138.50</td>\n",
       "      <td>68.40</td>\n",
       "      <td>0.0</td>\n",
       "      <td>193.60</td>\n",
       "      <td>137.00</td>\n",
       "      <td>1</td>\n",
       "    </tr>\n",
       "  </tbody>\n",
       "</table>\n",
       "</div>"
      ],
      "text/plain": [
       "       h2    ch4  c2h6    c2h4    c2h2  act\n",
       "1  200.83  59.45  41.0   40.48  150.84    1\n",
       "2   71.60  20.20   2.7   34.60   44.20    1\n",
       "3   29.30  24.90   7.3   11.40    7.50    1\n",
       "5  255.00  48.00   8.3   33.00   29.80    1\n",
       "6  138.50  68.40   0.0  193.60  137.00    1"
      ]
     },
     "execution_count": 9,
     "metadata": {},
     "output_type": "execute_result"
    }
   ],
   "source": [
    "train_data.head()"
   ]
  },
  {
   "cell_type": "code",
   "execution_count": 10,
   "metadata": {},
   "outputs": [
    {
     "data": {
      "text/plain": [
       "count    1596.000000\n",
       "mean        3.106516\n",
       "std         1.538613\n",
       "min         1.000000\n",
       "25%         2.000000\n",
       "50%         3.000000\n",
       "75%         4.000000\n",
       "max         6.000000\n",
       "Name: act, dtype: float64"
      ]
     },
     "execution_count": 10,
     "metadata": {},
     "output_type": "execute_result"
    }
   ],
   "source": [
    "label = 'act'\n",
    "train_data[label].describe()"
   ]
  }
 ],
 "metadata": {
  "kernelspec": {
   "display_name": "pytorch",
   "language": "python",
   "name": "python3"
  },
  "language_info": {
   "codemirror_mode": {
    "name": "ipython",
    "version": 3
   },
   "file_extension": ".py",
   "mimetype": "text/x-python",
   "name": "python",
   "nbconvert_exporter": "python",
   "pygments_lexer": "ipython3",
   "version": "3.10.12"
  }
 },
 "nbformat": 4,
 "nbformat_minor": 2
}
